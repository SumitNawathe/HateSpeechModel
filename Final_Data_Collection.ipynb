{
  "nbformat": 4,
  "nbformat_minor": 0,
  "metadata": {
    "colab": {
      "name": "Final Data Collection",
      "provenance": [],
      "collapsed_sections": [],
      "include_colab_link": true
    },
    "kernelspec": {
      "name": "python3",
      "display_name": "Python 3"
    },
    "language_info": {
      "name": "python"
    },
    "accelerator": "GPU"
  },
  "cells": [
    {
      "cell_type": "markdown",
      "metadata": {
        "id": "view-in-github",
        "colab_type": "text"
      },
      "source": [
        "<a href=\"https://colab.research.google.com/github/SumitNawathe/HateSpeechModel/blob/main/Final_Data_Collection.ipynb\" target=\"_parent\"><img src=\"https://colab.research.google.com/assets/colab-badge.svg\" alt=\"Open In Colab\"/></a>"
      ]
    },
    {
      "cell_type": "markdown",
      "source": [
        "## Installs/Upgrades"
      ],
      "metadata": {
        "id": "XQeAldGOv0nk"
      }
    },
    {
      "cell_type": "code",
      "source": [
        "!pip install --upgrade pip"
      ],
      "metadata": {
        "id": "BRtUjtwrzvTz"
      },
      "execution_count": null,
      "outputs": []
    },
    {
      "cell_type": "code",
      "source": [
        "!pip install torch\n",
        "!pip install pytorch-lightning\n",
        "!pip install transformers"
      ],
      "metadata": {
        "id": "PEhlqnSJv4_j"
      },
      "execution_count": null,
      "outputs": []
    },
    {
      "cell_type": "code",
      "source": [
        "!pip install --upgrade pandas\n",
        "!pip3 install pickle5"
      ],
      "metadata": {
        "id": "bjwvl4O9v7Pk"
      },
      "execution_count": null,
      "outputs": []
    },
    {
      "cell_type": "code",
      "source": [
        "!pip install -U sentence-transformers"
      ],
      "metadata": {
        "id": "UXUOmhG4v85j"
      },
      "execution_count": null,
      "outputs": []
    },
    {
      "cell_type": "markdown",
      "source": [
        "If running for first time, restart runtime to apply changes."
      ],
      "metadata": {
        "id": "nWLI5QnGqfn-"
      }
    },
    {
      "cell_type": "code",
      "execution_count": null,
      "metadata": {
        "id": "ZFdcLwdKqrhg"
      },
      "outputs": [],
      "source": [
        "import numpy as np\n",
        "import pandas as pd\n",
        "import pickle5 as pickle\n",
        "from sentence_transformers import SentenceTransformer"
      ]
    },
    {
      "cell_type": "markdown",
      "source": [
        "## Useful Functions/Values"
      ],
      "metadata": {
        "id": "GS_pJhFHqqdz"
      }
    },
    {
      "cell_type": "code",
      "source": [
        "# returns 1 if, for any of the categories, the corresponding entry in\n",
        "# row is 1. otherwise, returns 0\n",
        "def contains_cat_or(row: pd.Series, categories: list) -> int:\n",
        "  for item in categories:\n",
        "    if row[item] == 1:\n",
        "      return 1\n",
        "  return 0"
      ],
      "metadata": {
        "id": "nFtPfKaD0jvd"
      },
      "execution_count": null,
      "outputs": []
    },
    {
      "cell_type": "code",
      "source": [
        "# list of original label columns\n",
        "# is overwritten in Data Combining section to balance dataset\n",
        "LABEL_COLUMNS_OLD = ['race', 'east_asian', 'south_asian', 'black', 'hispanic', 'arab', 'immigrant', 'other_race',\n",
        "                 'religion', 'jew', 'muslim', 'christian', 'other_relig', 'gender', 'women', 'lgbt',\n",
        "                 'disability', 'economic', 'political', 'not_hate']"
      ],
      "metadata": {
        "id": "3fpGeN3B0m31"
      },
      "execution_count": null,
      "outputs": []
    },
    {
      "cell_type": "code",
      "source": [
        "# removes rows of dataframe for which no category is marked\n",
        "def remove_nonclassified(df: pd.DataFrame) -> pd.DataFrame:\n",
        "  temp = df.copy()\n",
        "  temp = df.drop(df[df.apply(lambda row: contains_cat_or(row, LABEL_COLUMNS_OLD), axis=1) == 0].index)\n",
        "  return temp"
      ],
      "metadata": {
        "id": "CwaU5XzT6Wn9"
      },
      "execution_count": null,
      "outputs": []
    },
    {
      "cell_type": "markdown",
      "source": [
        "## Generated Hate Speech Dataset"
      ],
      "metadata": {
        "id": "BPJ0HBJ0LJBc"
      }
    },
    {
      "cell_type": "markdown",
      "source": [
        "Source: https://www.kaggle.com/usharengaraju/dynamically-generated-hate-speech-dataset\n",
        "\n",
        "This dataset contains human- and machine-generated hate speech samples, and is constructed to be used in training hate speech models."
      ],
      "metadata": {
        "id": "sl-QPGV2tJq6"
      }
    },
    {
      "cell_type": "code",
      "source": [
        "entriesdf = pd.read_csv('2020-12-31-DynamicallyGeneratedHateDataset-entries-v0.1.csv')\n",
        "targetsdf = pd.read_csv('2020-12-31-DynamicallyGeneratedHateDataset-targets-v0.1.csv')"
      ],
      "metadata": {
        "colab": {
          "base_uri": "https://localhost:8080/"
        },
        "id": "jHqhVnB8KabR",
        "outputId": "52321267-aaf4-4cde-ce65-f68b38eaad4e"
      },
      "execution_count": null,
      "outputs": [
        {
          "output_type": "stream",
          "name": "stderr",
          "text": [
            "C:\\Users\\Sumit Nawathe\\AppData\\Local\\Programs\\Python\\Python39\\lib\\site-packages\\IPython\\core\\interactiveshell.py:3444: DtypeWarning: Columns (0) have mixed types.Specify dtype option on import or set low_memory=False.\n",
            "  exec(code_obj, self.user_global_ns, self.user_ns)\n"
          ]
        }
      ]
    },
    {
      "cell_type": "code",
      "source": [
        "generated_comb = pd.merge(entriesdf, targetsdf, on='id', how='inner')\n",
        "generated_comb.shape"
      ],
      "metadata": {
        "colab": {
          "base_uri": "https://localhost:8080/"
        },
        "id": "fTCN_NKfLz2r",
        "outputId": "3acce232-e9f1-44cb-f8b5-d7733eca5248"
      },
      "execution_count": null,
      "outputs": [
        {
          "output_type": "execute_result",
          "data": {
            "text/plain": [
              "(32768, 54)"
            ]
          },
          "metadata": {},
          "execution_count": 6
        }
      ]
    },
    {
      "cell_type": "markdown",
      "source": [
        "Some hateful entries for east asians are marked with 2's instead of 1's. Correcting here."
      ],
      "metadata": {
        "id": "nG8pDFGItcPZ"
      }
    },
    {
      "cell_type": "code",
      "source": [
        "generated_comb['east'].replace([2], 1, inplace=True)\n",
        "generated_comb['south'].replace([2], 1, inplace=True)"
      ],
      "metadata": {
        "id": "ydR2o8NYL_at"
      },
      "execution_count": null,
      "outputs": []
    },
    {
      "cell_type": "code",
      "source": [
        "generated_comb.keys()"
      ],
      "metadata": {
        "colab": {
          "base_uri": "https://localhost:8080/"
        },
        "id": "23C78KhVTJIY",
        "outputId": "f9ba363b-7631-459c-b600-707ec0797096"
      },
      "execution_count": null,
      "outputs": [
        {
          "output_type": "execute_result",
          "data": {
            "text/plain": [
              "Index(['Unnamed: 0', 'id', 'text', 'label', 'type', 'model_wrong',\n",
              "       'db.model_preds', 'status', 'round', 'split', 'annotator', 'none',\n",
              "       'dis', 'bla', 'trav', 'jew', 'mus', 'trans', 'indig', 'immig', 'for',\n",
              "       'blaman', 'gayman', 'east', 'south', 'mixed', 'gendermin', 'gay',\n",
              "       'gaywom', 'arab', 'wom', 'chinese', 'ref', 'asylum', 'blawom', 'asiwom',\n",
              "       'muswom', 'non-white', 'hispanic', 'bis', 'ethnic minority', 'nazi',\n",
              "       'asi', 'pak', 'pol', 'eastern european', 'working', 'african',\n",
              "       'russian', 'indigwom', 'old', 'hitler', 'NoTargetRecorded', 'other'],\n",
              "      dtype='object')"
            ]
          },
          "metadata": {},
          "execution_count": 8
        }
      ]
    },
    {
      "cell_type": "code",
      "source": [
        "generated_final = generated_comb.copy()"
      ],
      "metadata": {
        "id": "d4t4OQtES5En"
      },
      "execution_count": null,
      "outputs": []
    },
    {
      "cell_type": "code",
      "source": [
        "generated_final['language'] = 'english'\n",
        "generated_final['text'] = generated_comb['text']\n",
        "\n",
        "generated_final['race'] = generated_comb.apply(lambda row: contains_cat_or(row,\n",
        "  ['mixed', 'ethnic minority', 'indig', 'indigwom', 'non-white', 'trav', 'bla', \n",
        "   'blawom', 'blaman', 'african', 'asi', 'asiwom', 'east', 'south', 'chinese', \n",
        "   'pak', 'arab', 'immig', 'asylum', 'ref', 'for', 'eastern european', \n",
        "   'russian', 'pol', 'hispanic']), axis=1)\n",
        "generated_final['east_asian'] = generated_comb.apply(lambda row: contains_cat_or(row, ['asi', 'asiwom', 'east', 'chinese']), axis=1)\n",
        "generated_final['south_asian'] = generated_comb.apply(lambda row: contains_cat_or(row, ['south', 'pak']), axis=1)\n",
        "generated_final['black'] = generated_comb.apply(lambda row: contains_cat_or(row, ['bla', 'blawom', 'blaman', 'african']), axis=1)\n",
        "generated_final['hispanic'] = generated_comb['hispanic']\n",
        "generated_final['arab'] = generated_comb['arab']\n",
        "generated_final['immigrant'] = generated_comb.apply(lambda row: contains_cat_or(row, ['immig', 'asylum', 'ref', 'for']), axis=1)\n",
        "generated_final['other_race'] = generated_comb.apply(lambda row: contains_cat_or(row,\n",
        "  ['eastern european', 'russian', 'pol', 'mixed', 'ethnic minority', 'indig', \n",
        "   'indigwom', 'non-white', 'trav']), axis=1)\n",
        "generated_final['religion'] = generated_comb.apply(lambda row: contains_cat_or(row, ['jew', 'mus', 'muswom']), axis=1)\n",
        "generated_final['jew'] = generated_comb['jew']\n",
        "generated_final['muslim'] = generated_comb.apply(lambda row: contains_cat_or(row, ['mus', 'muswom']), axis=1)\n",
        "generated_final['christian'] = 0\n",
        "generated_final['other_relig'] = 0\n",
        "\n",
        "generated_final['gender'] = generated_comb.apply(lambda row: contains_cat_or(row, ['wom', 'trans', 'gendermin', 'bis', 'gay', 'gayman', 'gaywom']), axis=1)\n",
        "generated_final['women'] = generated_comb['wom']\n",
        "generated_final['lgbt'] = generated_comb.apply(lambda row: contains_cat_or(row, ['trans', 'gendermin', 'bis', 'gay', 'gayman', 'gaywom']), axis=1)\n",
        "\n",
        "generated_final['disability'] = generated_comb.apply(lambda row: contains_cat_or(row, ['dis', 'old']), axis=1)\n",
        "generated_final['economic'] = generated_comb['working']\n",
        "\n",
        "generated_final['political'] = generated_comb.apply(lambda row: contains_cat_or(row, ['nazi', 'hitler']), axis=1)\n",
        "\n",
        "generated_final['not_hate'] = generated_comb['none']"
      ],
      "metadata": {
        "id": "n6Txn-7NTGIU"
      },
      "execution_count": null,
      "outputs": []
    },
    {
      "cell_type": "code",
      "source": [
        "generated_final.drop(columns=['Unnamed: 0', 'id', 'label', 'type', 'model_wrong',\n",
        "  'db.model_preds', 'status', 'round', 'split', 'annotator', 'none', 'dis',\n",
        "  'bla', 'trav', 'mus', 'trans', 'indig', 'immig', 'for', 'blaman', 'gayman',\n",
        "  'east', 'south', 'mixed', 'gendermin', 'gay', 'gaywom', 'wom', 'chinese',\n",
        "  'ref', 'asylum', 'blawom', 'asiwom', 'muswom', 'non-white', 'bis', 'ethnic minority',\n",
        "  'nazi', 'asi', 'pak', 'pol', 'eastern european', 'russian', 'working',\n",
        "  'indigwom', 'old', 'hitler', 'NoTargetRecorded', 'other', 'african'], inplace=True)"
      ],
      "metadata": {
        "id": "EpHzHu4fcUqO"
      },
      "execution_count": null,
      "outputs": []
    },
    {
      "cell_type": "code",
      "source": [
        "generated_final.shape, generated_final.keys()"
      ],
      "metadata": {
        "colab": {
          "base_uri": "https://localhost:8080/"
        },
        "id": "5XxvaEpIdIAy",
        "outputId": "fbcaaec1-6bac-4537-abc3-6c919ed6f91e"
      },
      "execution_count": null,
      "outputs": [
        {
          "output_type": "execute_result",
          "data": {
            "text/plain": [
              "((32768, 22),\n",
              " Index(['text', 'jew', 'arab', 'hispanic', 'language', 'race', 'east_asian',\n",
              "        'south_asian', 'black', 'immigrant', 'other_race', 'religion', 'muslim',\n",
              "        'christian', 'other_relig', 'gender', 'women', 'lgbt', 'disability',\n",
              "        'economic', 'political', 'not_hate'],\n",
              "       dtype='object'))"
            ]
          },
          "metadata": {},
          "execution_count": 12
        }
      ]
    },
    {
      "cell_type": "code",
      "source": [
        "generated_final = remove_nonclassified(generated_final)\n",
        "generated_final.dropna(inplace=True)\n",
        "generated_final.shape"
      ],
      "metadata": {
        "colab": {
          "base_uri": "https://localhost:8080/"
        },
        "id": "gGACFCYH5v9I",
        "outputId": "f6a7cc5a-2eff-451f-c900-36e58e895901"
      },
      "execution_count": null,
      "outputs": [
        {
          "output_type": "execute_result",
          "data": {
            "text/plain": [
              "(29933, 22)"
            ]
          },
          "metadata": {},
          "execution_count": 13
        }
      ]
    },
    {
      "cell_type": "markdown",
      "source": [
        "## Hatexplain Dataset"
      ],
      "metadata": {
        "id": "dy__Z2_TNHK_"
      }
    },
    {
      "cell_type": "markdown",
      "source": [
        "Source: https://github.com/huggingface/datasets/blob/master/datasets/hatexplain/README.md\n",
        "\n",
        "This dataset consists of tweets analyzed by multiple annotators. Its formatting is stranger, so more preprocessing is necessary."
      ],
      "metadata": {
        "id": "thzKCrLztvY-"
      }
    },
    {
      "cell_type": "code",
      "source": [
        "hatexplain_raw = pd.read_json('hatexplain_dataset.json')\n",
        "hatexplain_raw.shape"
      ],
      "metadata": {
        "colab": {
          "base_uri": "https://localhost:8080/"
        },
        "id": "MslnTAC1AVKQ",
        "outputId": "63662079-b98f-4311-955d-17f47626263e"
      },
      "execution_count": null,
      "outputs": [
        {
          "output_type": "execute_result",
          "data": {
            "text/plain": [
              "(4, 20148)"
            ]
          },
          "metadata": {},
          "execution_count": 15
        }
      ]
    },
    {
      "cell_type": "code",
      "source": [
        "# given list of annotators, returns list containing all groups possibly targeted by text\n",
        "def list_of_targets(list_of_annotators: list) -> list:\n",
        "  ans = set()\n",
        "  for elem in list_of_annotators:\n",
        "    for x in elem['target']:\n",
        "      ans.add(x)\n",
        "  return list(ans)\n",
        "\n",
        "hatexplain_raw.T['annotators'].apply(list_of_targets)"
      ],
      "metadata": {
        "id": "tJBUwlcdDCvm"
      },
      "execution_count": null,
      "outputs": []
    },
    {
      "cell_type": "markdown",
      "source": [
        "We use the previous function to compile a list of all possible targets annotated in this dataset, as this was not provided to us."
      ],
      "metadata": {
        "id": "Fv5NAaqzubhl"
      }
    },
    {
      "cell_type": "code",
      "source": [
        "total = set()\n",
        "for item in hatexplain_raw.T['annotators'].apply(list_of_targets):\n",
        "  for x in item:\n",
        "    total.add(x)\n",
        "total"
      ],
      "metadata": {
        "id": "zAJr3ksxNE5q"
      },
      "execution_count": null,
      "outputs": []
    },
    {
      "cell_type": "code",
      "source": [
        "hatexplainT = hatexplain_raw.T.copy()"
      ],
      "metadata": {
        "id": "QMnwxXvLfzo5"
      },
      "execution_count": null,
      "outputs": []
    },
    {
      "cell_type": "code",
      "source": [
        "# for each entry, returns a dictionary with keys as targets and corresponding values\n",
        "# representing how many annotators believed that the tweet targeted that group\n",
        "def annotator_count(row: list[dict]) -> dict:\n",
        "  ans = dict()\n",
        "  for annotator in row[\"annotators\"]:\n",
        "    for item in annotator[\"target\"]:\n",
        "      if item not in ans.keys():\n",
        "        ans[item] = 1\n",
        "      else:\n",
        "        ans[item] += 1\n",
        "  return ans"
      ],
      "metadata": {
        "id": "rjDoI34CTsDH"
      },
      "execution_count": null,
      "outputs": []
    },
    {
      "cell_type": "code",
      "source": [
        "# given a dictionary in the format outputted by the previous function,\n",
        "# returns a list of the targets with the maximum corresponding value\n",
        "def max_labels(input: dict) -> list[str]:\n",
        "  maxnum = 0\n",
        "  ans = []\n",
        "  for k, v in input.items():\n",
        "    if v > maxnum:\n",
        "      maxnum = v\n",
        "      ans = [k]\n",
        "    elif v == maxnum:\n",
        "      ans.append(k)\n",
        "  return ans"
      ],
      "metadata": {
        "id": "IOBBqERLVGOQ"
      },
      "execution_count": null,
      "outputs": []
    },
    {
      "cell_type": "code",
      "source": [
        "hatexplainT['allabels'] = hatexplainT.apply(lambda row: annotator_count(row), axis=1)"
      ],
      "metadata": {
        "id": "89RKNNP0bcjl"
      },
      "execution_count": null,
      "outputs": []
    },
    {
      "cell_type": "code",
      "source": [
        "hatexplainT['labels'] = hatexplainT.apply(lambda row: max_labels(annotator_count(row)), axis=1)"
      ],
      "metadata": {
        "id": "msQIyAAuW0gb"
      },
      "execution_count": null,
      "outputs": []
    },
    {
      "cell_type": "markdown",
      "source": [
        "We drop rows for which the highest-rated labels contain 'None' and another target group, as these entries are deemed 'controversial.'"
      ],
      "metadata": {
        "id": "umvpCqzgvTHA"
      }
    },
    {
      "cell_type": "code",
      "source": [
        "hatexplainT['todrop'] = hatexplainT.apply(lambda row: ('None' in row['labels']) and (len(row['labels']) != 1), axis=1)"
      ],
      "metadata": {
        "id": "LLW30FE2ZTm_"
      },
      "execution_count": null,
      "outputs": []
    },
    {
      "cell_type": "code",
      "source": [
        "hatexplainT.drop(hatexplainT[hatexplainT.todrop].index, inplace=True)\n",
        "hatexplainT.drop(['todrop', 'allabels'], axis=1, inplace=True)\n",
        "hatexplainT.shape, hatexplainT.keys()"
      ],
      "metadata": {
        "colab": {
          "base_uri": "https://localhost:8080/"
        },
        "id": "E0SA9cETa3I5",
        "outputId": "5b0a0b5c-24b9-4741-a492-1a8716064b4f"
      },
      "execution_count": null,
      "outputs": [
        {
          "output_type": "execute_result",
          "data": {
            "text/plain": [
              "((19198, 5),\n",
              " Index(['post_id', 'annotators', 'rationales', 'post_tokens', 'labels'], dtype='object'))"
            ]
          },
          "metadata": {},
          "execution_count": 27
        }
      ]
    },
    {
      "cell_type": "code",
      "source": [
        "for label in total:\n",
        "  hatexplainT[label] = hatexplainT.apply(lambda row: 1 if label in row['labels'] else 0, axis=1)\n",
        "hatexplainT.keys()"
      ],
      "metadata": {
        "colab": {
          "base_uri": "https://localhost:8080/"
        },
        "id": "YgaA8SDlgVwM",
        "outputId": "64e644b6-f520-43a5-a401-40a6ab3762ca"
      },
      "execution_count": null,
      "outputs": [
        {
          "output_type": "execute_result",
          "data": {
            "text/plain": [
              "Index(['post_id', 'annotators', 'rationales', 'post_tokens', 'labels',\n",
              "       'Disability', 'Islam', 'Hispanic', 'Other', 'Caucasian', 'Minority',\n",
              "       'Hindu', 'Refugee', 'Jewish', 'Men', 'Christian', 'Arab', 'Asexual',\n",
              "       'Buddhism', 'African', 'Bisexual', 'Nonreligious', 'None', 'Women',\n",
              "       'Homosexual', 'Indian', 'Economic', 'Heterosexual', 'Indigenous',\n",
              "       'Asian'],\n",
              "      dtype='object')"
            ]
          },
          "metadata": {},
          "execution_count": 29
        }
      ]
    },
    {
      "cell_type": "code",
      "source": [
        "hatexplain_final = hatexplainT.copy()"
      ],
      "metadata": {
        "id": "HKbLJc092e5U"
      },
      "execution_count": null,
      "outputs": []
    },
    {
      "cell_type": "code",
      "source": [
        "hatexplain_final['language'] = 'english'\n",
        "hatexplain_final['text'] = hatexplainT.apply(lambda row: ' '.join(row['post_tokens']), axis=1)\n",
        "\n",
        "hatexplain_final['race'] = hatexplainT.apply(lambda row: contains_cat_or(row,\n",
        "  ['Asian', 'Indian', 'African', 'Hispanic', 'Arab', 'Minority', 'Caucasian', 'Indigenous', 'Refugee']), axis=1)\n",
        "hatexplain_final['east_asian'] = hatexplainT['Asian']\n",
        "hatexplain_final['south_asian'] = hatexplainT['Indian']\n",
        "hatexplain_final['black'] = hatexplainT['African']\n",
        "hatexplain_final['hispanic'] = hatexplainT['Hispanic']\n",
        "hatexplain_final['arab'] = hatexplainT['Arab']\n",
        "hatexplain_final['immigrant'] = hatexplainT['Refugee']\n",
        "hatexplain_final['other_race'] = hatexplainT.apply(lambda row: contains_cat_or(row,\n",
        "  ['Minority', 'Caucasian', 'Indigenous']), axis=1)\n",
        "\n",
        "hatexplain_final['religion'] = hatexplainT.apply(lambda row: contains_cat_or(row,\n",
        "  ['Jewish', 'Islam', 'Christian', 'Nonreligious', 'Buddhism', 'Hindu']), axis=1)\n",
        "hatexplain_final['jew'] = hatexplainT['Jewish']\n",
        "hatexplain_final['muslim'] = hatexplainT['Islam']\n",
        "hatexplain_final['christian'] = hatexplainT['Christian']\n",
        "hatexplain_final['other_relig'] = hatexplainT.apply(lambda row: contains_cat_or(row,\n",
        "  ['Nonreligious', 'Buddhism', 'Hindu']), axis=1)\n",
        "\n",
        "hatexplain_final['gender'] = hatexplainT.apply(lambda row: contains_cat_or(row,\n",
        "  ['Women', 'Homosexual', 'Bisexual', 'Asexual', 'Men', 'Heterosexual']), axis=1)\n",
        "hatexplain_final['women'] = hatexplainT['Women']\n",
        "hatexplain_final['lgbt'] = hatexplainT.apply(lambda row: contains_cat_or(row,\n",
        "  ['Homosexual', 'Bisexual', 'Asexual']), axis=1)\n",
        "\n",
        "hatexplain_final['disability'] = hatexplainT['Disability']\n",
        "hatexplain_final['economic'] = hatexplainT['Economic']\n",
        "\n",
        "hatexplain_final['political'] = 0\n",
        "\n",
        "hatexplain_final['not_hate'] = hatexplainT['None']"
      ],
      "metadata": {
        "id": "8uKqJyU02hop"
      },
      "execution_count": null,
      "outputs": []
    },
    {
      "cell_type": "code",
      "source": [
        "hatexplain_final.drop(columns=['labels', 'post_id', 'annotators', 'rationales', 'post_tokens',\n",
        "  'Women', 'African', 'Minority', 'Nonreligious', 'Arab', 'Indigenous', 'None',\n",
        "  'Asian', 'Indian', 'Homosexual', 'Buddhism', 'Bisexual', 'Jewish', 'Hindu',\n",
        "  'Hispanic', 'Refugee', 'Caucasian', 'Economic', 'Asexual', 'Islam',\n",
        "  'Heterosexual', 'Men', 'Disability', 'Christian', 'Other'], inplace=True)\n",
        "hatexplain_final.shape, hatexplain_final.keys()"
      ],
      "metadata": {
        "colab": {
          "base_uri": "https://localhost:8080/"
        },
        "id": "ccUDUI067GDK",
        "outputId": "888fa119-d5bb-41c8-e286-edb4a04668e8"
      },
      "execution_count": null,
      "outputs": [
        {
          "output_type": "execute_result",
          "data": {
            "text/plain": [
              "((19198, 22),\n",
              " Index(['language', 'text', 'race', 'east_asian', 'south_asian', 'black',\n",
              "        'hispanic', 'arab', 'immigrant', 'other_race', 'religion', 'jew',\n",
              "        'muslim', 'christian', 'other_relig', 'gender', 'women', 'lgbt',\n",
              "        'disability', 'economic', 'political', 'not_hate'],\n",
              "       dtype='object'))"
            ]
          },
          "metadata": {},
          "execution_count": 32
        }
      ]
    },
    {
      "cell_type": "code",
      "source": [
        "hatexplain_final = remove_nonclassified(hatexplain_final)\n",
        "hatexplain_final.dropna(inplace=True)\n",
        "hatexplain_final.shape"
      ],
      "metadata": {
        "colab": {
          "base_uri": "https://localhost:8080/"
        },
        "id": "G7kqjSqc6i1I",
        "outputId": "f6ed8e7e-798c-448f-d725-93e19fb57876"
      },
      "execution_count": null,
      "outputs": [
        {
          "output_type": "execute_result",
          "data": {
            "text/plain": [
              "(18594, 22)"
            ]
          },
          "metadata": {},
          "execution_count": 33
        }
      ]
    },
    {
      "cell_type": "markdown",
      "source": [
        "## MLMA-Arabic Dataset"
      ],
      "metadata": {
        "id": "bBr_duTxNK3s"
      }
    },
    {
      "cell_type": "markdown",
      "source": [
        "Source: https://github.com/HKUST-KnowComp/MLMA_hate_speech\n",
        "\n",
        "This dataset is the Arabic portion of this multilingual hate speech dataset group."
      ],
      "metadata": {
        "id": "8fWmzMBWv1Jh"
      }
    },
    {
      "cell_type": "code",
      "source": [
        "mlma_ar_raw = pd.read_csv('mlma_ar_dataset.csv')\n",
        "mlma_ar_raw.shape"
      ],
      "metadata": {
        "colab": {
          "base_uri": "https://localhost:8080/"
        },
        "id": "-_z3uWB8DdoU",
        "outputId": "2d338541-9dae-45c2-ca50-9816e2f4ede0"
      },
      "execution_count": null,
      "outputs": [
        {
          "output_type": "execute_result",
          "data": {
            "text/plain": [
              "(3353, 7)"
            ]
          },
          "metadata": {},
          "execution_count": 35
        }
      ]
    },
    {
      "cell_type": "code",
      "source": [
        "mlma_ar_raw['group'].unique(), mlma_ar_raw['target'].unique(), mlma_ar_raw.keys()"
      ],
      "metadata": {
        "colab": {
          "base_uri": "https://localhost:8080/"
        },
        "id": "-34qkf6WNmFO",
        "outputId": "3cf06bd7-5baa-45ac-f756-5d3644edc530"
      },
      "execution_count": null,
      "outputs": [
        {
          "output_type": "execute_result",
          "data": {
            "text/plain": [
              "(array(['individual', 'other', 'women', 'arabs', 'indian/hindu',\n",
              "        'refugees', 'african_descent', 'muslims', 'special_needs',\n",
              "        'asians', 'immigrants', 'jews', 'christian', 'gay'], dtype=object),\n",
              " array(['gender', 'other', 'origin', 'religion', 'disability'],\n",
              "       dtype=object),\n",
              " Index(['HITId', 'tweet', 'sentiment', 'directness', 'annotator_sentiment',\n",
              "        'target', 'group'],\n",
              "       dtype='object'))"
            ]
          },
          "metadata": {},
          "execution_count": 36
        }
      ]
    },
    {
      "cell_type": "markdown",
      "source": [
        "We drop rows where both the 'group' and 'target' are 'other,' as this is too little information to make a judgement."
      ],
      "metadata": {
        "id": "nn1DEh2ywP5k"
      }
    },
    {
      "cell_type": "code",
      "source": [
        "mlma_ar_noother = mlma_ar_raw[(mlma_ar_raw['target'] != 'other') & (mlma_ar_raw['group'] != 'other')]\n",
        "mlma_ar_noother.shape"
      ],
      "metadata": {
        "colab": {
          "base_uri": "https://localhost:8080/"
        },
        "id": "TjoEU9KTixkj",
        "outputId": "53da7131-0d66-419e-ec90-10dd807de2d9"
      },
      "execution_count": null,
      "outputs": [
        {
          "output_type": "execute_result",
          "data": {
            "text/plain": [
              "(930, 7)"
            ]
          },
          "metadata": {},
          "execution_count": 37
        }
      ]
    },
    {
      "cell_type": "code",
      "source": [
        "mlma_ar_cat = mlma_ar_noother.copy()"
      ],
      "metadata": {
        "id": "S3fJU9rq-7dJ"
      },
      "execution_count": null,
      "outputs": []
    },
    {
      "cell_type": "markdown",
      "source": [
        "We separate out the possible groups into their own columns for easy analysis."
      ],
      "metadata": {
        "id": "e7Ni9F4LwbCV"
      }
    },
    {
      "cell_type": "code",
      "source": [
        "for label in ['women', 'arabs', 'indian/hindu', 'refugees', 'african_descent', 'muslims', 'special_needs', 'asians', 'immigrants', 'jews', 'christian', 'gay']:\n",
        "  mlma_ar_cat[label] = mlma_ar_noother.apply(lambda row: 1 if (row['group'] == label) else 0, axis=1)"
      ],
      "metadata": {
        "id": "iyUNii2S_KBH"
      },
      "execution_count": null,
      "outputs": []
    },
    {
      "cell_type": "code",
      "source": [
        "mlma_ar_final = mlma_ar_cat.copy()"
      ],
      "metadata": {
        "id": "CWLWvPXf8kTo"
      },
      "execution_count": null,
      "outputs": []
    },
    {
      "cell_type": "code",
      "source": [
        "mlma_ar_final['language'] = 'arabic'\n",
        "mlma_ar_final['text'] = mlma_ar_cat['tweet']\n",
        "\n",
        "mlma_ar_final['race'] = mlma_ar_cat.apply(lambda row: contains_cat_or(row, ['asians', 'indian/hindu', 'african_descent', 'arabs', 'immigrants', 'refugees']), axis=1)\n",
        "mlma_ar_final['east_asian'] = mlma_ar_cat['asians']\n",
        "mlma_ar_final['south_asian'] = mlma_ar_cat['indian/hindu']\n",
        "mlma_ar_final['black'] = mlma_ar_cat['african_descent']\n",
        "mlma_ar_final['hispanic'] = 0\n",
        "mlma_ar_final['arab'] = mlma_ar_cat['arabs']\n",
        "mlma_ar_final['immigrant'] = mlma_ar_cat.apply(lambda row: contains_cat_or(row, ['immigrants', 'refugees']), axis=1)\n",
        "mlma_ar_final['other_race'] = 0\n",
        "\n",
        "mlma_ar_final['religion'] = mlma_ar_cat.apply(lambda row: contains_cat_or(row, ['jews', 'muslims', 'christian']), axis=1)\n",
        "mlma_ar_final['jew'] = mlma_ar_cat['jews']\n",
        "mlma_ar_final['muslim'] = mlma_ar_cat['muslims']\n",
        "mlma_ar_final['other_relig'] = 0\n",
        "\n",
        "mlma_ar_final['gender'] = mlma_ar_cat.apply(lambda row: contains_cat_or(row, ['women', 'gay']), axis=1)\n",
        "mlma_ar_final['women'] = mlma_ar_cat['women']\n",
        "mlma_ar_final['lgbt'] = mlma_ar_cat['gay']\n",
        "\n",
        "mlma_ar_final['disability'] = mlma_ar_cat['special_needs']\n",
        "mlma_ar_final['economic'] = 0\n",
        "\n",
        "mlma_ar_final['political'] = 0\n",
        "\n",
        "mlma_ar_final['not_hate'] = 0"
      ],
      "metadata": {
        "id": "644jdil-8bGV"
      },
      "execution_count": null,
      "outputs": []
    },
    {
      "cell_type": "code",
      "source": [
        "mlma_ar_final.drop(columns=['HITId', 'sentiment', 'directness', 'annotator_sentiment', \n",
        "  'target', 'group', 'asians', 'indian/hindu', 'african_descent', 'arabs', 'tweet',\n",
        "  'immigrants', 'refugees', 'jews', 'muslims', 'gay', 'special_needs'], inplace=True)\n",
        "mlma_ar_final.shape, mlma_ar_final.keys()"
      ],
      "metadata": {
        "colab": {
          "base_uri": "https://localhost:8080/"
        },
        "id": "nAeLFdoh99wH",
        "outputId": "0df5f749-df43-41f7-f041-2af5f66abad2"
      },
      "execution_count": null,
      "outputs": [
        {
          "output_type": "execute_result",
          "data": {
            "text/plain": [
              "((930, 22),\n",
              " Index(['women', 'christian', 'language', 'text', 'race', 'east_asian',\n",
              "        'south_asian', 'black', 'hispanic', 'arab', 'immigrant', 'other_race',\n",
              "        'religion', 'jew', 'muslim', 'other_relig', 'gender', 'lgbt',\n",
              "        'disability', 'economic', 'political', 'not_hate'],\n",
              "       dtype='object'))"
            ]
          },
          "metadata": {},
          "execution_count": 42
        }
      ]
    },
    {
      "cell_type": "code",
      "source": [
        "mlma_ar_final = remove_nonclassified(mlma_ar_final)\n",
        "mlma_ar_final.dropna(inplace=True)\n",
        "mlma_ar_final.shape"
      ],
      "metadata": {
        "colab": {
          "base_uri": "https://localhost:8080/"
        },
        "id": "lqk0HyP1E6wc",
        "outputId": "08913cba-6ef4-4798-a6b9-8b2208b8f302"
      },
      "execution_count": null,
      "outputs": [
        {
          "output_type": "execute_result",
          "data": {
            "text/plain": [
              "(590, 22)"
            ]
          },
          "metadata": {},
          "execution_count": 43
        }
      ]
    },
    {
      "cell_type": "markdown",
      "source": [
        "## MLMA-French Dataset"
      ],
      "metadata": {
        "id": "ybOLuHduFEVY"
      }
    },
    {
      "cell_type": "markdown",
      "source": [
        "Source: https://github.com/HKUST-KnowComp/MLMA_hate_speech\n",
        "\n",
        "This dataset is the French portion of this multilingual hate speech dataset group. Its analysis is identical to its Arabic counterpart."
      ],
      "metadata": {
        "id": "Q2wj7svLwld1"
      }
    },
    {
      "cell_type": "code",
      "source": [
        "mlma_fr_raw = pd.read_csv('mlma_fr_dataset.csv')\n",
        "mlma_fr_raw.shape"
      ],
      "metadata": {
        "id": "gGP63J3NFEB5",
        "colab": {
          "base_uri": "https://localhost:8080/"
        },
        "outputId": "00a2eb1d-2a56-4fab-8f1c-32a79b2e5f15"
      },
      "execution_count": null,
      "outputs": [
        {
          "output_type": "execute_result",
          "data": {
            "text/plain": [
              "(4014, 7)"
            ]
          },
          "metadata": {},
          "execution_count": 44
        }
      ]
    },
    {
      "cell_type": "code",
      "source": [
        "mlma_fr_raw['group'].unique(), mlma_fr_raw['target'].unique(), mlma_fr_raw.keys()"
      ],
      "metadata": {
        "colab": {
          "base_uri": "https://localhost:8080/"
        },
        "id": "28C5XK9-HhlN",
        "outputId": "48ad0524-66d9-40e5-c114-955886e9021c"
      },
      "execution_count": null,
      "outputs": [
        {
          "output_type": "execute_result",
          "data": {
            "text/plain": [
              "(array(['other', 'individual', 'women', 'african_descent', 'immigrants',\n",
              "        'arabs', 'indian/hindu', 'special_needs', 'left_wing_people',\n",
              "        'asians', 'jews', 'muslims', 'christian', 'hispanics', 'refugees',\n",
              "        'gay'], dtype=object),\n",
              " array(['origin', 'other', 'disability', 'religion', 'gender',\n",
              "        'sexual_orientation'], dtype=object),\n",
              " Index(['HITId', 'tweet', 'sentiment', 'directness', 'annotator_sentiment',\n",
              "        'target', 'group'],\n",
              "       dtype='object'))"
            ]
          },
          "metadata": {},
          "execution_count": 45
        }
      ]
    },
    {
      "cell_type": "code",
      "source": [
        "mlma_fr_noother = mlma_fr_raw[(mlma_fr_raw['target'] != 'other') & (mlma_fr_raw['group'] != 'other')]\n",
        "mlma_fr_noother.shape"
      ],
      "metadata": {
        "colab": {
          "base_uri": "https://localhost:8080/"
        },
        "id": "8htBOJPcHmYS",
        "outputId": "80635ce7-a0c7-489d-a327-5aadb842d09a"
      },
      "execution_count": null,
      "outputs": [
        {
          "output_type": "execute_result",
          "data": {
            "text/plain": [
              "(1985, 7)"
            ]
          },
          "metadata": {},
          "execution_count": 46
        }
      ]
    },
    {
      "cell_type": "code",
      "source": [
        "mlma_fr_cat = mlma_fr_noother.copy()"
      ],
      "metadata": {
        "id": "YAg-dlLHHrSF"
      },
      "execution_count": null,
      "outputs": []
    },
    {
      "cell_type": "code",
      "source": [
        "for label in ['women', 'arabs', 'indian/hindu', 'refugees', 'african_descent', 'muslims', 'special_needs', 'asians', 'immigrants', 'jews', 'christian', 'gay']:\n",
        "  mlma_fr_cat[label] = mlma_fr_noother.apply(lambda row: 1 if (row['group'] == label) else 0, axis=1)"
      ],
      "metadata": {
        "id": "Y9H3JW2MHuly"
      },
      "execution_count": null,
      "outputs": []
    },
    {
      "cell_type": "code",
      "source": [
        "mlma_fr_final = mlma_fr_cat.copy()"
      ],
      "metadata": {
        "id": "mmpo5lJ1H6lZ"
      },
      "execution_count": null,
      "outputs": []
    },
    {
      "cell_type": "code",
      "source": [
        "mlma_fr_final['language'] = 'arabic'\n",
        "mlma_fr_final['text'] = mlma_fr_cat['tweet']\n",
        "\n",
        "mlma_fr_final['race'] = mlma_fr_cat.apply(lambda row: contains_cat_or(row, ['asians', 'indian/hindu', 'african_descent', 'arabs', 'immigrants', 'refugees']), axis=1)\n",
        "mlma_fr_final['east_asian'] = mlma_fr_cat['asians']\n",
        "mlma_fr_final['south_asian'] = mlma_fr_cat['indian/hindu']\n",
        "mlma_fr_final['black'] = mlma_fr_cat['african_descent']\n",
        "mlma_fr_final['hispanic'] = 0\n",
        "mlma_fr_final['arab'] = mlma_fr_cat['arabs']\n",
        "mlma_fr_final['immigrant'] = mlma_fr_cat.apply(lambda row: contains_cat_or(row, ['immigrants', 'refugees']), axis=1)\n",
        "mlma_fr_final['other_race'] = 0\n",
        "\n",
        "mlma_fr_final['religion'] = mlma_fr_cat.apply(lambda row: contains_cat_or(row, ['jews', 'muslims', 'christian']), axis=1)\n",
        "mlma_fr_final['jew'] = mlma_fr_cat['jews']\n",
        "mlma_fr_final['muslim'] = mlma_fr_cat['muslims']\n",
        "mlma_fr_final['other_relig'] = 0\n",
        "\n",
        "mlma_fr_final['gender'] = mlma_fr_cat.apply(lambda row: contains_cat_or(row, ['women', 'gay']), axis=1)\n",
        "mlma_fr_final['women'] = mlma_fr_cat['women']\n",
        "mlma_fr_final['lgbt'] = mlma_fr_cat['gay']\n",
        "\n",
        "mlma_fr_final['disability'] = mlma_fr_cat['special_needs']\n",
        "mlma_fr_final['economic'] = 0\n",
        "\n",
        "mlma_fr_final['political'] = 0\n",
        "\n",
        "mlma_fr_final['not_hate'] = 0"
      ],
      "metadata": {
        "id": "QJZkZyDoH9rJ"
      },
      "execution_count": null,
      "outputs": []
    },
    {
      "cell_type": "code",
      "source": [
        "mlma_fr_final.drop(columns=['HITId', 'sentiment', 'directness', 'annotator_sentiment', \n",
        "  'target', 'group', 'asians', 'indian/hindu', 'african_descent', 'arabs', 'tweet',\n",
        "  'immigrants', 'refugees', 'jews', 'muslims', 'gay', 'special_needs'], inplace=True)\n",
        "mlma_fr_final.shape, mlma_fr_final.keys()"
      ],
      "metadata": {
        "colab": {
          "base_uri": "https://localhost:8080/"
        },
        "id": "3gaee6ScINQq",
        "outputId": "b9390266-72cb-4172-8247-c887b9fe9bbe"
      },
      "execution_count": null,
      "outputs": [
        {
          "output_type": "execute_result",
          "data": {
            "text/plain": [
              "((1985, 22),\n",
              " Index(['women', 'christian', 'language', 'text', 'race', 'east_asian',\n",
              "        'south_asian', 'black', 'hispanic', 'arab', 'immigrant', 'other_race',\n",
              "        'religion', 'jew', 'muslim', 'other_relig', 'gender', 'lgbt',\n",
              "        'disability', 'economic', 'political', 'not_hate'],\n",
              "       dtype='object'))"
            ]
          },
          "metadata": {},
          "execution_count": 51
        }
      ]
    },
    {
      "cell_type": "code",
      "source": [
        "mlma_fr_final = remove_nonclassified(mlma_fr_final)\n",
        "mlma_fr_final.dropna(inplace=True)\n",
        "mlma_fr_final.shape"
      ],
      "metadata": {
        "colab": {
          "base_uri": "https://localhost:8080/"
        },
        "id": "92zk0w5mIT5y",
        "outputId": "e4dab0ad-33b7-4b8a-b4ce-313ecdcb134a"
      },
      "execution_count": null,
      "outputs": [
        {
          "output_type": "execute_result",
          "data": {
            "text/plain": [
              "(1495, 22)"
            ]
          },
          "metadata": {},
          "execution_count": 52
        }
      ]
    },
    {
      "cell_type": "markdown",
      "source": [
        "## Bengali Dataset"
      ],
      "metadata": {
        "id": "tSMwBSKPNRHj"
      }
    },
    {
      "cell_type": "markdown",
      "source": [
        "Source: https://github.com/rezacsedu/Bengali-Hate-Speech-Dataset\n",
        "\n",
        "To fit our categorization scheme, we only take the political and religious hate from this dataset."
      ],
      "metadata": {
        "id": "9aAJhTabwxMq"
      }
    },
    {
      "cell_type": "code",
      "source": [
        "bengali_hate_raw = pd.read_csv('bengali_hate_v2.0.csv')\n",
        "bengali_hate_raw.shape"
      ],
      "metadata": {
        "colab": {
          "base_uri": "https://localhost:8080/"
        },
        "id": "iOzRDRc3E_Jx",
        "outputId": "d4495846-a179-4499-ec22-f9f2847873ef"
      },
      "execution_count": null,
      "outputs": [
        {
          "output_type": "execute_result",
          "data": {
            "text/plain": [
              "(5698, 3)"
            ]
          },
          "metadata": {},
          "execution_count": 53
        }
      ]
    },
    {
      "cell_type": "code",
      "source": [
        "bengali_useful = bengali_hate_raw[(bengali_hate_raw['label'] == 'Religious') | (bengali_hate_raw['label'] == 'Political')]\n",
        "bengali_useful.shape"
      ],
      "metadata": {
        "colab": {
          "base_uri": "https://localhost:8080/"
        },
        "id": "X_xj3rc3M3iF",
        "outputId": "b24ea770-553d-4111-acd9-77430a762082"
      },
      "execution_count": null,
      "outputs": [
        {
          "output_type": "execute_result",
          "data": {
            "text/plain": [
              "(1771, 3)"
            ]
          },
          "metadata": {},
          "execution_count": 54
        }
      ]
    },
    {
      "cell_type": "code",
      "source": [
        "bengali_final = bengali_useful.copy()"
      ],
      "metadata": {
        "id": "K0BIP-IgN0G_"
      },
      "execution_count": null,
      "outputs": []
    },
    {
      "cell_type": "code",
      "source": [
        "bengali_final['language'] = 'bengali'\n",
        "bengali_final['text'] = bengali_useful['text']\n",
        "\n",
        "bengali_final['race'] = 0\n",
        "bengali_final['east_asian'] = 0\n",
        "bengali_final['south_asian'] = 0\n",
        "bengali_final['black'] = 0\n",
        "bengali_final['hispanic'] = 0\n",
        "bengali_final['arab'] = 0\n",
        "bengali_final['immigrant'] = 0\n",
        "bengali_final['other_race'] = 0\n",
        "\n",
        "bengali_final['religion'] = bengali_useful.apply(lambda row: 1 if row['label'] == 'Religious' else 0, axis=1)\n",
        "bengali_final['jew'] = 0\n",
        "bengali_final['muslim'] = 0\n",
        "bengali_final['christian'] = 0\n",
        "bengali_final['other_relig'] = 0\n",
        "\n",
        "bengali_final['gender'] = 0\n",
        "bengali_final['women'] = 0\n",
        "bengali_final['lgbt'] = 0\n",
        "\n",
        "bengali_final['disability'] = 0\n",
        "bengali_final['economic'] = 0\n",
        "\n",
        "bengali_final['political'] = bengali_useful.apply(lambda row: 1 if row['label'] == 'Political' else 0, axis=1)\n",
        "\n",
        "bengali_final['not_hate'] = 0"
      ],
      "metadata": {
        "id": "V9cNHGIhN8-k"
      },
      "execution_count": null,
      "outputs": []
    },
    {
      "cell_type": "code",
      "source": [
        "bengali_final.drop(columns=['label', 'target'], inplace=True)\n",
        "bengali_final.shape, bengali_final.keys()"
      ],
      "metadata": {
        "colab": {
          "base_uri": "https://localhost:8080/"
        },
        "id": "imj3PnIcN4FB",
        "outputId": "8277a5c1-9570-451e-a933-8a24890c4d29"
      },
      "execution_count": null,
      "outputs": [
        {
          "output_type": "execute_result",
          "data": {
            "text/plain": [
              "((1771, 22),\n",
              " Index(['text', 'language', 'race', 'east_asian', 'south_asian', 'black',\n",
              "        'hispanic', 'arab', 'immigrant', 'other_race', 'religion', 'jew',\n",
              "        'muslim', 'christian', 'other_relig', 'gender', 'women', 'lgbt',\n",
              "        'disability', 'economic', 'political', 'not_hate'],\n",
              "       dtype='object'))"
            ]
          },
          "metadata": {},
          "execution_count": 57
        }
      ]
    },
    {
      "cell_type": "code",
      "source": [
        "bengali_final = remove_nonclassified(bengali_final)\n",
        "bengali_final.dropna(inplace=True)\n",
        "bengali_final.shape"
      ],
      "metadata": {
        "colab": {
          "base_uri": "https://localhost:8080/"
        },
        "id": "-r8pzebP6se4",
        "outputId": "f3b1f4fe-5eae-4602-80a1-3caee181fbf5"
      },
      "execution_count": null,
      "outputs": [
        {
          "output_type": "execute_result",
          "data": {
            "text/plain": [
              "(1771, 22)"
            ]
          },
          "metadata": {},
          "execution_count": 58
        }
      ]
    },
    {
      "cell_type": "markdown",
      "source": [
        "## Indonesian Dataset"
      ],
      "metadata": {
        "id": "F5EUG46jNSrx"
      }
    },
    {
      "cell_type": "markdown",
      "source": [
        "Source: https://www.kaggle.com/ilhamfp31/indonesian-abusive-and-hate-speech-twitter-text?select=README.md\n",
        "\n",
        "Once again, we only use certain categories from the preprocessed data to fit our categorization scheme."
      ],
      "metadata": {
        "id": "ICW2V59vxEw3"
      }
    },
    {
      "cell_type": "code",
      "source": [
        "indonesian_raw = pd.read_csv('preprocessed_indonesian.csv')\n",
        "indonesian_raw.shape"
      ],
      "metadata": {
        "colab": {
          "base_uri": "https://localhost:8080/"
        },
        "id": "SXAcu3-mGQgZ",
        "outputId": "489a9021-48ac-463f-bd89-a07e62976033"
      },
      "execution_count": null,
      "outputs": [
        {
          "output_type": "execute_result",
          "data": {
            "text/plain": [
              "(13169, 13)"
            ]
          },
          "metadata": {},
          "execution_count": 59
        }
      ]
    },
    {
      "cell_type": "code",
      "source": [
        "indonesian_raw.keys()"
      ],
      "metadata": {
        "colab": {
          "base_uri": "https://localhost:8080/"
        },
        "id": "FCrL59C8IEfu",
        "outputId": "3e69d38c-f8f8-4286-ddec-703f2c7df8f9"
      },
      "execution_count": null,
      "outputs": [
        {
          "output_type": "execute_result",
          "data": {
            "text/plain": [
              "Index(['Tweet', 'HS', 'Abusive', 'HS_Individual', 'HS_Group', 'HS_Religion',\n",
              "       'HS_Race', 'HS_Physical', 'HS_Gender', 'HS_Other', 'HS_Weak',\n",
              "       'HS_Moderate', 'HS_Strong'],\n",
              "      dtype='object')"
            ]
          },
          "metadata": {},
          "execution_count": 60
        }
      ]
    },
    {
      "cell_type": "code",
      "source": [
        "indonesian_final = indonesian_raw.copy()"
      ],
      "metadata": {
        "id": "-EAIsXdHP7uk"
      },
      "execution_count": null,
      "outputs": []
    },
    {
      "cell_type": "code",
      "source": [
        "indonesian_final['language'] = 'indonesian'\n",
        "indonesian_final['text'] = indonesian_raw['Tweet']\n",
        "\n",
        "indonesian_final['race'] = indonesian_raw['HS_Race']\n",
        "indonesian_final['east_asian'] = 0\n",
        "indonesian_final['south_asian'] = 0\n",
        "indonesian_final['black'] = 0\n",
        "indonesian_final['hispanic'] = 0\n",
        "indonesian_final['arab'] = 0\n",
        "indonesian_final['immigrant'] = 0\n",
        "indonesian_final['other_race'] = 0\n",
        "\n",
        "indonesian_final['religion'] = indonesian_raw['HS_Religion']\n",
        "indonesian_final['jew'] = 0\n",
        "indonesian_final['muslim'] = 0\n",
        "indonesian_final['christian'] = 0\n",
        "indonesian_final['other_relig'] = 0\n",
        "\n",
        "indonesian_final['gender'] = indonesian_raw['HS_Gender']\n",
        "indonesian_final['women'] = 0\n",
        "indonesian_final['lgbt'] = 0\n",
        "\n",
        "indonesian_final['disability'] = indonesian_raw['HS_Physical']\n",
        "indonesian_final['economic'] = 0\n",
        "\n",
        "indonesian_final['political'] = 0\n",
        "\n",
        "indonesian_final['not_hate'] = indonesian_raw.apply(lambda row: 0 if (row['HS'] == 1) else 1, axis=1)"
      ],
      "metadata": {
        "id": "OSIzXG2v2J7U"
      },
      "execution_count": null,
      "outputs": []
    },
    {
      "cell_type": "code",
      "source": [
        "indonesian_final.drop(columns=['Tweet', 'HS', 'Abusive', 'HS_Individual', 'HS_Group', 'HS_Religion', 'HS_Race', 'HS_Physical', 'HS_Gender', 'HS_Other', 'HS_Weak', 'HS_Moderate', 'HS_Strong'], inplace=True)\n",
        "indonesian_final.shape, indonesian_final.keys()"
      ],
      "metadata": {
        "colab": {
          "base_uri": "https://localhost:8080/"
        },
        "id": "2VFXu46QRXnD",
        "outputId": "065b1ba9-fe8e-4beb-e99d-bc2465056f27"
      },
      "execution_count": null,
      "outputs": [
        {
          "output_type": "execute_result",
          "data": {
            "text/plain": [
              "((13169, 22),\n",
              " Index(['language', 'text', 'race', 'east_asian', 'south_asian', 'black',\n",
              "        'hispanic', 'arab', 'immigrant', 'other_race', 'religion', 'jew',\n",
              "        'muslim', 'christian', 'other_relig', 'gender', 'women', 'lgbt',\n",
              "        'disability', 'economic', 'political', 'not_hate'],\n",
              "       dtype='object'))"
            ]
          },
          "metadata": {},
          "execution_count": 63
        }
      ]
    },
    {
      "cell_type": "code",
      "source": [
        "indonesian_final = remove_nonclassified(indonesian_final)\n",
        "indonesian_final.dropna(inplace=True)\n",
        "indonesian_final.shape"
      ],
      "metadata": {
        "colab": {
          "base_uri": "https://localhost:8080/"
        },
        "id": "M4Pf_W1jSsOz",
        "outputId": "f62aff41-458d-490a-8bd0-e6ff740af33a"
      },
      "execution_count": null,
      "outputs": [
        {
          "output_type": "execute_result",
          "data": {
            "text/plain": [
              "(9429, 22)"
            ]
          },
          "metadata": {},
          "execution_count": 64
        }
      ]
    },
    {
      "cell_type": "markdown",
      "source": [
        "## Korean Dataset"
      ],
      "metadata": {
        "id": "9I5ByyMuIlee"
      }
    },
    {
      "cell_type": "markdown",
      "source": [
        "Source: https://github.com/kocohub/korean-hate-speech\n",
        "\n",
        "We only take some nonhate samples from this dataset, to balance the previous multilingual datasets which were entirely hateful."
      ],
      "metadata": {
        "id": "mOEVf3RaxUBj"
      }
    },
    {
      "cell_type": "code",
      "source": [
        "korean_raw = pd.read_csv('korean_train_hate.csv')\n",
        "korean_raw.shape"
      ],
      "metadata": {
        "id": "6hBv-Zbq6xwm",
        "colab": {
          "base_uri": "https://localhost:8080/"
        },
        "outputId": "3db8f35f-959a-4b05-dcd4-b17dcf80d46c"
      },
      "execution_count": null,
      "outputs": [
        {
          "output_type": "execute_result",
          "data": {
            "text/plain": [
              "(7896, 2)"
            ]
          },
          "metadata": {},
          "execution_count": 65
        }
      ]
    },
    {
      "cell_type": "code",
      "source": [
        "korean_raw.drop(korean_raw[korean_raw['label'] != 'none'].index, inplace=True)"
      ],
      "metadata": {
        "id": "IW8nj1LLJYJf"
      },
      "execution_count": null,
      "outputs": []
    },
    {
      "cell_type": "code",
      "source": [
        "korean_final = korean_raw.copy()"
      ],
      "metadata": {
        "id": "xEh36z4MKAvK"
      },
      "execution_count": null,
      "outputs": []
    },
    {
      "cell_type": "code",
      "source": [
        "korean_final['language'] = 'korean'\n",
        "korean_final['text'] = korean_raw['comments']\n",
        "\n",
        "korean_final['race'] = 0\n",
        "korean_final['east_asian'] = 0\n",
        "korean_final['south_asian'] = 0\n",
        "korean_final['black'] = 0\n",
        "korean_final['hispanic'] = 0\n",
        "korean_final['arab'] = 0\n",
        "korean_final['immigrant'] = 0\n",
        "korean_final['other_race'] = 0\n",
        "\n",
        "korean_final['religion'] = 0\n",
        "korean_final['jew'] = 0\n",
        "korean_final['muslim'] = 0\n",
        "korean_final['christian'] = 0\n",
        "korean_final['other_relig'] = 0\n",
        "\n",
        "korean_final['gender'] = 0\n",
        "korean_final['women'] = 0\n",
        "korean_final['lgbt'] = 0\n",
        "\n",
        "korean_final['disability'] = 0\n",
        "korean_final['economic'] = 0\n",
        "\n",
        "korean_final['political'] = 0\n",
        "\n",
        "korean_final['not_hate'] = 1"
      ],
      "metadata": {
        "id": "FNCfVJHSJZuH"
      },
      "execution_count": null,
      "outputs": []
    },
    {
      "cell_type": "code",
      "source": [
        "korean_final.drop(columns=['comments', 'label'], inplace=True)\n",
        "korean_final.shape, korean_final.keys()"
      ],
      "metadata": {
        "colab": {
          "base_uri": "https://localhost:8080/"
        },
        "id": "KMYPSbzYKVYi",
        "outputId": "e4ef1b2e-ae03-4935-9459-2f5bca921519"
      },
      "execution_count": null,
      "outputs": [
        {
          "output_type": "execute_result",
          "data": {
            "text/plain": [
              "((3486, 22),\n",
              " Index(['language', 'text', 'race', 'east_asian', 'south_asian', 'black',\n",
              "        'hispanic', 'arab', 'immigrant', 'other_race', 'religion', 'jew',\n",
              "        'muslim', 'christian', 'other_relig', 'gender', 'women', 'lgbt',\n",
              "        'disability', 'economic', 'political', 'not_hate'],\n",
              "       dtype='object'))"
            ]
          },
          "metadata": {},
          "execution_count": 69
        }
      ]
    },
    {
      "cell_type": "markdown",
      "source": [
        "## Combining DataFrames"
      ],
      "metadata": {
        "id": "XfCudrGZLW4y"
      }
    },
    {
      "cell_type": "markdown",
      "source": [
        "We combine all of the above datasets, down-sampling the less-categorized multilingual sets so as not to greatly interfere with the hate target specializations in the model."
      ],
      "metadata": {
        "id": "n-1AVq9txkgW"
      }
    },
    {
      "cell_type": "code",
      "source": [
        "hatespeech_df = pd.concat([\n",
        "  generated_final,\n",
        "  hatexplain_final,\n",
        "  mlma_ar_final,\n",
        "  mlma_fr_final,\n",
        "  bengali_final.sample(300),\n",
        "  indonesian_final.sample(500),\n",
        "  korean_final.sample(1500)\n",
        "])\n",
        "hatespeech_df.shape, hatespeech_df.keys()"
      ],
      "metadata": {
        "colab": {
          "base_uri": "https://localhost:8080/"
        },
        "id": "vLGeOydrKbwe",
        "outputId": "63ebe0b5-8887-44f8-e37e-34048b6ca764"
      },
      "execution_count": null,
      "outputs": [
        {
          "output_type": "execute_result",
          "data": {
            "text/plain": [
              "((52912, 22),\n",
              " Index(['text', 'jew', 'arab', 'hispanic', 'language', 'race', 'east_asian',\n",
              "        'south_asian', 'black', 'immigrant', 'other_race', 'religion', 'muslim',\n",
              "        'christian', 'other_relig', 'gender', 'women', 'lgbt', 'disability',\n",
              "        'economic', 'political', 'not_hate'],\n",
              "       dtype='object'))"
            ]
          },
          "metadata": {},
          "execution_count": 70
        }
      ]
    },
    {
      "cell_type": "markdown",
      "source": [
        "## Limiting Size"
      ],
      "metadata": {
        "id": "YkgQCBp13l3O"
      }
    },
    {
      "cell_type": "markdown",
      "source": [
        "Many entries consist of very few or very many words, each of which is problematic given the construction of our LaBSE vectors. As such, we limit the number of words to be between 5 and 40."
      ],
      "metadata": {
        "id": "7i4mmFOkxy18"
      }
    },
    {
      "cell_type": "code",
      "source": [
        "hatespeech_df.drop(hatespeech_df[hatespeech_df['text'].str.split(\" \").str.len() > 40].index, inplace=True)\n",
        "hatespeech_df.drop(hatespeech_df[hatespeech_df['text'].str.split(\" \").str.len() < 5].index, inplace=True)"
      ],
      "metadata": {
        "id": "gucUWQ5T8lwv"
      },
      "execution_count": null,
      "outputs": []
    },
    {
      "cell_type": "code",
      "source": [
        "hatespeech_df.shape"
      ],
      "metadata": {
        "colab": {
          "base_uri": "https://localhost:8080/"
        },
        "id": "uT7aMsqC8va8",
        "outputId": "6bf28c18-4c9a-4ffa-ff70-41f7ea10298d"
      },
      "execution_count": null,
      "outputs": [
        {
          "output_type": "execute_result",
          "data": {
            "text/plain": [
              "(41642, 22)"
            ]
          },
          "metadata": {},
          "execution_count": 121
        }
      ]
    },
    {
      "cell_type": "code",
      "source": [
        "lengths = hatespeech_df['text'].str.split(\" \").str.len()"
      ],
      "metadata": {
        "id": "Aue--QcN8yJn"
      },
      "execution_count": null,
      "outputs": []
    },
    {
      "cell_type": "code",
      "source": [
        "lengths.mean()"
      ],
      "metadata": {
        "colab": {
          "base_uri": "https://localhost:8080/"
        },
        "id": "FALK6WcR7Sux",
        "outputId": "e7853556-a391-4466-b51e-b1296327cc5b"
      },
      "execution_count": null,
      "outputs": [
        {
          "output_type": "execute_result",
          "data": {
            "text/plain": [
              "16.89171469740634"
            ]
          },
          "metadata": {},
          "execution_count": 123
        }
      ]
    },
    {
      "cell_type": "code",
      "source": [
        "lengths.hist()"
      ],
      "metadata": {
        "colab": {
          "base_uri": "https://localhost:8080/",
          "height": 282
        },
        "id": "DEtS6BkS7Bbw",
        "outputId": "7913ce07-e316-4d25-b567-fde1b10606d3"
      },
      "execution_count": null,
      "outputs": [
        {
          "output_type": "execute_result",
          "data": {
            "text/plain": [
              "<AxesSubplot:>"
            ]
          },
          "metadata": {},
          "execution_count": 124
        },
        {
          "output_type": "display_data",
          "data": {
            "text/plain": [
              "<Figure size 432x288 with 1 Axes>"
            ],
            "image/png": "[encoded data removed]"
          },
          "metadata": {
            "needs_background": "light"
          }
        }
      ]
    },
    {
      "cell_type": "markdown",
      "source": [
        "## Trimming"
      ],
      "metadata": {
        "id": "vQWlHiAzueGj"
      }
    },
    {
      "cell_type": "markdown",
      "source": [
        "Several categories do not have sufficient entries in the data to be picked up by the model. As such, we combine similar categories and drop others to balance the number of entries corresponding to each."
      ],
      "metadata": {
        "id": "OwyjkhrLyK2b"
      }
    },
    {
      "cell_type": "code",
      "source": [
        "hatespeech_trimmed = hatespeech_df.copy()"
      ],
      "metadata": {
        "id": "ZijA20uw9qdg"
      },
      "execution_count": null,
      "outputs": []
    },
    {
      "cell_type": "markdown",
      "source": [
        "Economic and political hate is cut entirely. Religious hate categorized as 'christian' and 'other_relig' are only categorized as targeting religion, rather than those specializations."
      ],
      "metadata": {
        "id": "AKSiiajnyYKG"
      }
    },
    {
      "cell_type": "code",
      "source": [
        "hatespeech_trimmed.drop(hatespeech_trimmed[(hatespeech_trimmed['economic'] == 1) | (hatespeech_trimmed['political'] == 1)].index, inplace=True)"
      ],
      "metadata": {
        "id": "htdf3cqB94Qe"
      },
      "execution_count": null,
      "outputs": []
    },
    {
      "cell_type": "code",
      "source": [
        "hatespeech_trimmed.drop(['other_relig', 'christian', 'economic', 'political'], axis=1, inplace=True)"
      ],
      "metadata": {
        "id": "_YY_X09-97vL"
      },
      "execution_count": null,
      "outputs": []
    },
    {
      "cell_type": "markdown",
      "source": [
        "East and south asians are combined into one 'asian' group. Additionally, 'arab' and 'hispanic' are combined into 'other_race'."
      ],
      "metadata": {
        "id": "rBg3qo7TyopR"
      }
    },
    {
      "cell_type": "code",
      "source": [
        "hatespeech_trimmed['asian'] = hatespeech_trimmed.apply(lambda row: 1 if (row['south_asian'] == 1) or (row['east_asian'] == 1) else 0, axis=1)\n",
        "hatespeech_trimmed.drop(columns=['south_asian', 'east_asian'], inplace=True)"
      ],
      "metadata": {
        "id": "5HOFFjH-9wo4"
      },
      "execution_count": null,
      "outputs": []
    },
    {
      "cell_type": "code",
      "source": [
        "hatespeech_trimmed['other_race'] = hatespeech_trimmed.apply(lambda row: 1 if (row['other_race'] == 1) or (row['arab'] == 1) or (row['hispanic'] == 1) else 0, axis=1)\n",
        "hatespeech_trimmed.drop(columns=['arab', 'hispanic'], inplace=True)"
      ],
      "metadata": {
        "id": "2hLkThto90Jf"
      },
      "execution_count": null,
      "outputs": []
    },
    {
      "cell_type": "markdown",
      "source": [
        "This is our final list of categorizations."
      ],
      "metadata": {
        "id": "KcmtPYjhyxnx"
      }
    },
    {
      "cell_type": "code",
      "source": [
        "LABEL_COLUMNS = ['race', 'asian', 'black', 'immigrant', 'other_race', 'religion', \n",
        "                 'jew', 'muslim', 'gender', 'women', 'lgbt', 'disability', 'not_hate']\n",
        "hatespeech_trimmed[LABEL_COLUMNS].sum().sort_values().plot(kind=\"barh\");"
      ],
      "metadata": {
        "colab": {
          "base_uri": "https://localhost:8080/",
          "height": 265
        },
        "id": "TISpxC4r9e5S",
        "outputId": "432739bd-aafb-435a-d14c-2809f28988b4"
      },
      "execution_count": null,
      "outputs": [
        {
          "output_type": "display_data",
          "data": {
            "text/plain": [
              "<Figure size 432x288 with 1 Axes>"
            ],
            "image/png": "[encoded data removed]"
          },
          "metadata": {
            "needs_background": "light"
          }
        }
      ]
    },
    {
      "cell_type": "markdown",
      "source": [
        "We reduce the number of entries belonging to 'not_hate' and 'race'."
      ],
      "metadata": {
        "id": "mOGk1euvy2P3"
      }
    },
    {
      "cell_type": "code",
      "source": [
        "hatespeech_trimmed = pd.concat([\n",
        "    hatespeech_trimmed[hatespeech_trimmed['not_hate'] == 0],\n",
        "    hatespeech_trimmed[hatespeech_trimmed['not_hate'] == 1].sample(6000)\n",
        "])\n",
        "hatespeech_trimmed.shape"
      ],
      "metadata": {
        "colab": {
          "base_uri": "https://localhost:8080/"
        },
        "id": "UMLyYX9Kudxj",
        "outputId": "286eab1b-8f6c-407d-d466-bb4af9577bb2"
      },
      "execution_count": null,
      "outputs": [
        {
          "output_type": "execute_result",
          "data": {
            "text/plain": [
              "(25055, 15)"
            ]
          },
          "metadata": {},
          "execution_count": 153
        }
      ]
    },
    {
      "cell_type": "code",
      "source": [
        "hatespeech_trimmed = pd.concat([\n",
        "    hatespeech_trimmed[hatespeech_trimmed['race'] == 0],\n",
        "    hatespeech_trimmed[hatespeech_trimmed['race'] == 1].sample(6000)\n",
        "])\n",
        "hatespeech_trimmed.shape"
      ],
      "metadata": {
        "colab": {
          "base_uri": "https://localhost:8080/"
        },
        "id": "KURNCNVKvCFs",
        "outputId": "cdf00fb7-fab1-4429-8fd6-2937aa2ccf4d"
      },
      "execution_count": null,
      "outputs": [
        {
          "output_type": "execute_result",
          "data": {
            "text/plain": [
              "(23055, 15)"
            ]
          },
          "metadata": {},
          "execution_count": 154
        }
      ]
    },
    {
      "cell_type": "code",
      "source": [
        "hatespeech_trimmed.shape, hatespeech_trimmed.keys()"
      ],
      "metadata": {
        "colab": {
          "base_uri": "https://localhost:8080/"
        },
        "id": "hZpxh935vulV",
        "outputId": "41db20cd-cda9-4745-c890-f25b0e97d45d"
      },
      "execution_count": null,
      "outputs": [
        {
          "output_type": "execute_result",
          "data": {
            "text/plain": [
              "((23055, 15),\n",
              " Index(['text', 'jew', 'language', 'race', 'black', 'immigrant', 'other_race',\n",
              "        'religion', 'muslim', 'gender', 'women', 'lgbt', 'disability',\n",
              "        'not_hate', 'asian'],\n",
              "       dtype='object'))"
            ]
          },
          "metadata": {},
          "execution_count": 155
        }
      ]
    },
    {
      "cell_type": "code",
      "source": [
        "LABEL_COLUMNS = ['race', 'asian', 'black', 'immigrant', 'other_race', 'religion', \n",
        "                 'jew', 'muslim', 'gender', 'women', 'lgbt', 'disability', 'not_hate']\n",
        "hatespeech_trimmed[LABEL_COLUMNS].sum().sort_values().plot(kind=\"barh\");"
      ],
      "metadata": {
        "colab": {
          "base_uri": "https://localhost:8080/",
          "height": 265
        },
        "id": "mVRAHyaovJNu",
        "outputId": "f5e1f3f4-4b17-411a-9c8d-d1e985c56e70"
      },
      "execution_count": null,
      "outputs": [
        {
          "output_type": "display_data",
          "data": {
            "text/plain": [
              "<Figure size 432x288 with 1 Axes>"
            ],
            "image/png": "[encoded data removed]"
          },
          "metadata": {
            "needs_background": "light"
          }
        }
      ]
    },
    {
      "cell_type": "markdown",
      "source": [
        "## Tokenizing/Encoding"
      ],
      "metadata": {
        "id": "yyUKCBYft4aY"
      }
    },
    {
      "cell_type": "markdown",
      "source": [
        "We use the pre-trained LaBSE model to encode all of the text entries."
      ],
      "metadata": {
        "id": "Km4wWK-EzQ0m"
      }
    },
    {
      "cell_type": "code",
      "source": [
        "# with open('hatespeech_df_very_trimmed.pickle', 'rb') as hatespeech_df_file:\n",
        "#   hatespeech_df = pickle.load(hatespeech_df_file)\n",
        "hatespeech_df = hatespeech_trimmed\n",
        "hatespeech_df.dropna(inplace=True)\n",
        "hatespeech_df.shape"
      ],
      "metadata": {
        "colab": {
          "base_uri": "https://localhost:8080/"
        },
        "id": "BYB3tFMNvSHr",
        "outputId": "14fc42e2-638b-4403-ff85-a9cfafeee424"
      },
      "execution_count": null,
      "outputs": [
        {
          "output_type": "execute_result",
          "data": {
            "text/plain": [
              "((23055, 15),\n",
              " Index(['text', 'jew', 'language', 'race', 'black', 'immigrant', 'other_race',\n",
              "        'religion', 'muslim', 'gender', 'women', 'lgbt', 'disability',\n",
              "        'not_hate', 'asian'],\n",
              "       dtype='object'))"
            ]
          },
          "metadata": {},
          "execution_count": 6
        }
      ]
    },
    {
      "cell_type": "code",
      "source": [
        "labse = SentenceTransformer('sentence-transformers/LaBSE')"
      ],
      "metadata": {
        "id": "sBY02cf4w02V"
      },
      "execution_count": null,
      "outputs": []
    },
    {
      "cell_type": "markdown",
      "source": [
        "We wrap the encode function in this custom function to act as a makeshift progress bar."
      ],
      "metadata": {
        "id": "jR1Psi0LzV2B"
      }
    },
    {
      "cell_type": "code",
      "source": [
        "counter = 0\n",
        "def makeshift_progress_encoding(text: str) -> np.ndarray:\n",
        "  global counter\n",
        "  counter += 1\n",
        "  if counter % 1000 == 0:\n",
        "    print(counter)\n",
        "  return labse.encode(text)"
      ],
      "metadata": {
        "id": "jffgR5Df9a6M"
      },
      "execution_count": null,
      "outputs": []
    },
    {
      "cell_type": "code",
      "source": [
        "hatespeech_df['encoding'] = hatespeech_df.apply(lambda row: makeshift_progress_encoding(row['text']), axis=1)\n",
        "hatespeech_df.shape, hatespeech_df.keys()"
      ],
      "metadata": {
        "id": "7kWdUD2PuX6_"
      },
      "execution_count": null,
      "outputs": []
    },
    {
      "cell_type": "code",
      "source": [
        "hatespeech_df.to_pickle('hatespeech_df_encodedv2.pickle')"
      ],
      "metadata": {
        "id": "gSrIc4tOHz0_"
      },
      "execution_count": null,
      "outputs": []
    }
  ]
}